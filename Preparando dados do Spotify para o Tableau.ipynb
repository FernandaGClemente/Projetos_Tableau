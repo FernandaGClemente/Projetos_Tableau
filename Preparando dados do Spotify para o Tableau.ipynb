{
 "cells": [
  {
   "cell_type": "markdown",
   "id": "fbefb418",
   "metadata": {},
   "source": [
    "# Preparando dados do Spotify para o Tableau"
   ]
  },
  {
   "cell_type": "markdown",
   "id": "fd5f6ad0",
   "metadata": {},
   "source": [
    "###  Etapa 1: solicitar dados\n",
    "> https://towardsdatascience.com/visualizing-spotify-data-with-python-tableau-687f2f528cdd"
   ]
  },
  {
   "cell_type": "markdown",
   "id": "42db5e17",
   "metadata": {},
   "source": [
    "### Etapa 2: preparar dados de streaming/biblioteca"
   ]
  },
  {
   "cell_type": "code",
   "execution_count": 1,
   "id": "2173ecfe",
   "metadata": {},
   "outputs": [],
   "source": [
    "# Importação das bibliotecas\n",
    "import pandas as pd\n",
    "import numpy as np\n",
    "import requests"
   ]
  },
  {
   "cell_type": "markdown",
   "id": "ef46a1cb",
   "metadata": {},
   "source": [
    "### Criando streaming/dataframe da biblioteca"
   ]
  },
  {
   "cell_type": "code",
   "execution_count": null,
   "id": "3e4a7611",
   "metadata": {},
   "outputs": [],
   "source": [
    "# leia seus 1+ arquivos StreamingHistory (dependendo de quão extenso é seu histórico de streaming) em quadros de dados pandas\n",
    "df_stream0 = pd.read_json('StreamingHistory0.json')\n",
    "df_stream1 = pd.read_json('streamingHistory1.json')\n",
    "\n",
    "# mesclar dataframes de streaming\n",
    "df_stream = pd.concat([df_stream0, df_stream1])\n",
    "\n",
    "# crie um 'UniqueID' para cada música combinando os campos 'artistName' e 'trackName'\n",
    "df_stream['UniqueID'] = df_stream['artistName'] + \":\" + df_stream['trackName']\n",
    "\n",
    "df_stream.head()"
   ]
  },
  {
   "cell_type": "markdown",
   "id": "133b6b35",
   "metadata": {},
   "source": [
    "### Em seguida, limpei meu arquivo 'YourLibrary' do Spotify para que ele contivesse apenas o dicionário de “faixas”, entre colchetes [ ] e salvei como um novo arquivo 'YourLibrary1'. Alguém melhor em limpar arquivos json provavelmente poderia automatizar esta etapa e usar o arquivo original."
   ]
  },
  {
   "cell_type": "code",
   "execution_count": null,
   "id": "aa3ae8a1",
   "metadata": {},
   "outputs": [],
   "source": [
    "# leia seu arquivo json da biblioteca editado em um dataframe do pandas\n",
    "df_library = pd.read_json('YourLibrary1.json')\n",
    "\n",
    "# adicionar coluna UniqueID (o mesmo que acima)\n",
    "df_library['UniqueID'] = df_library['artist'] + \":\" + df_library['track']\n",
    "\n",
    "# adicione a coluna com o URI da faixa sem 'spotify:track:'\n",
    "new = df_library[\"uri\"].str.split(\":\", expand = True)\n",
    "df_library['track_uri'] = new[2]\n",
    "\n",
    "df_library.head()"
   ]
  },
  {
   "cell_type": "markdown",
   "id": "282b4807",
   "metadata": {},
   "source": [
    "### Crie nosso dataframe final, df_tableau:"
   ]
  },
  {
   "cell_type": "code",
   "execution_count": null,
   "id": "9905f8c2",
   "metadata": {},
   "outputs": [],
   "source": [
    "# criar dict final como uma cópia df_stream\n",
    "df_tableau = df_stream.copy()\n",
    "\n",
    "# adicionar coluna verificando se a música transmitida está na biblioteca\n",
    "# não usado neste projeto, mas pode ser útil para visualizações legais\n",
    "df_tableau['In Library'] = np.where(df_tableau['UniqueID'].isin(df_library['UniqueID'].tolist()),1,0)\n",
    "\n",
    "# left join com df_library em UniqueID para trazer album e track_uri\n",
    "df_tableau = pd.merge(df_tableau, df_library[['album','UniqueID','track_uri']],how='left',on=['UniqueID'])\n",
    "\n",
    "df_tableau.head()"
   ]
  },
  {
   "cell_type": "markdown",
   "id": "bb18e2ef",
   "metadata": {},
   "source": [
    "### Etapa 3: criar um novo projeto do Spotify <br>\n",
    "### Faça login na sua conta de desenvolvedor aqui . No seu painel, crie um novo projeto. Depois de criado, você pode recuperar seu 'ID do cliente' e 'Segredo do cliente'. \n",
    "> https://developer.spotify.com/"
   ]
  },
  {
   "cell_type": "markdown",
   "id": "40f0b2e8",
   "metadata": {},
   "source": [
    "### Etapa 4: criar um dataframe de gênero usando a API do Spotify <br>\n",
    "### Primeiro, usaremos nosso Client ID e Client Secret para gerar um token de acesso para que possamos extrair dados da API do Spotify. Nota: este token deve ser regenerado após uma hora. \n",
    "> https://stmorse.github.io/journal/spotify-api.html"
   ]
  },
  {
   "cell_type": "code",
   "execution_count": null,
   "id": "462ef445",
   "metadata": {},
   "outputs": [],
   "source": [
    "# Criando Dataframe de Gênero\n",
    "\n",
    "# salve seus IDs do novo projeto no Spotify Developer Dashboard\n",
    "CLIENT_ID = 'your-client-id'\n",
    "CLIENT_SECRET = 'your-client-secret'"
   ]
  },
  {
   "cell_type": "code",
   "execution_count": null,
   "id": "258edc20",
   "metadata": {},
   "outputs": [],
   "source": [
    "# Gerar token de acesso\n",
    "\n",
    "# URL de autenticação\n",
    "AUTH_URL = 'https://accounts.spotify.com/api/token'\n",
    "\n",
    "# POST\n",
    "auth_response = requests.post(AUTH_URL, {\n",
    "    'grant_type': 'client_credentials',\n",
    "    'client_id': CLIENT_ID,\n",
    "    'client_secret': CLIENT_SECRET,\n",
    "})\n",
    "\n",
    "# converter a resposta para JSON\n",
    "auth_response_data = auth_response.json()\n",
    "\n",
    "# salve o token de acesso\n",
    "access_token = auth_response_data['access_token']"
   ]
  },
  {
   "cell_type": "code",
   "execution_count": null,
   "id": "3df74a7b",
   "metadata": {},
   "outputs": [],
   "source": [
    "# usado para autenticar todas as chamadas de API\n",
    "headers = {'Authorization': 'Bearer {token}'.format(token=access_token)}"
   ]
  },
  {
   "cell_type": "code",
   "execution_count": null,
   "id": "4d45852d",
   "metadata": {},
   "outputs": [],
   "source": [
    "# URL base de todos os endpoints da API do Spotify\n",
    "BASE_URL = 'https://api.spotify.com/v1/'"
   ]
  },
  {
   "cell_type": "markdown",
   "id": "98c52f27",
   "metadata": {},
   "source": [
    "### Agora, vamos extrair o artista e os gêneros associados a cada track_uri em nossa biblioteca e adicioná-los a um dicionário (confira o console do Spotify para descobrir como extrair os pontos de dados de seu interesse).\n",
    "> https://developer.spotify.com/documentation/web-api"
   ]
  },
  {
   "cell_type": "code",
   "execution_count": null,
   "id": "db9d3c74",
   "metadata": {},
   "outputs": [],
   "source": [
    "# crie um dicionário em branco para armazenar o URI da faixa, o URI do artista e os gêneros\n",
    "dict_genre = {}\n",
    "\n",
    "# converter a coluna track_uri em uma lista iterável\n",
    "track_uris = df_library['track_uri'].to_list()\n",
    "\n",
    "# percorrer os URIs da faixa e extrair o URI do artista usando a API,\n",
    "# em seguida, use o URI do artista para extrair os gêneros associados a esse artista\n",
    "# armazene tudo isso em um dicionário\n",
    "for t_uri in track_uris:\n",
    "    \n",
    "    dict_genre[t_uri] = {'artist_uri': \"\", \"genres\":[]}\n",
    "    \n",
    "    r = requests.get(BASE_URL + 'tracks/' + t_uri, headers=headers)\n",
    "    r = r.json()\n",
    "    a_uri = r['artists'][0]['uri'].split(':')[2]\n",
    "    dict_genre[t_uri]['artist_uri'] = a_uri\n",
    "    \n",
    "    s = requests.get(BASE_URL + 'artists/' + a_uri, headers=headers)\n",
    "    s = s.json()\n",
    "    dict_genre[t_uri]['genres'] = s['genres']"
   ]
  },
  {
   "cell_type": "markdown",
   "id": "51d61e06",
   "metadata": {},
   "source": [
    "### Vamos converter este dicionário para um dataframe ( df_genre ) e expandi-lo para que cada gênero de cada faixa/artista esteja em sua própria linha (usei esta solução). Isso criará df_genre_expanded ."
   ]
  },
  {
   "cell_type": "code",
   "execution_count": null,
   "id": "0eaec130",
   "metadata": {},
   "outputs": [],
   "source": [
    "# converter dicionário em dataframe com track_uri como a primeira coluna\n",
    "df_genre = pd.DataFrame.from_dict(dict_genre, orient='index')\n",
    "df_genre.insert(0, 'track_uri', df_genre.index)\n",
    "df_genre.reset_index(inplace=True, drop=True)\n",
    "\n",
    "df_genre.head()"
   ]
  },
  {
   "cell_type": "code",
   "execution_count": null,
   "id": "0fbd3a79",
   "metadata": {},
   "outputs": [],
   "source": [
    "df_genre_expanded = df_genre.explode('genres')\n",
    "df_genre_expanded.head()"
   ]
  },
  {
   "cell_type": "markdown",
   "id": "c409ad58",
   "metadata": {},
   "source": [
    "### Em seguida, salvaremos df_tableau e df_genre_expanded como arquivos csv que podemos carregar no Tableau."
   ]
  },
  {
   "cell_type": "code",
   "execution_count": null,
   "id": "61f90f1c",
   "metadata": {},
   "outputs": [],
   "source": [
    "# salve df_tableau e df_genre_expanded como arquivos csv que podemos carregar no Tableau\n",
    "df_tableau.to_csv('MySpotifyDataTable.csv')\n",
    "df_genre_expanded.to_csv('GenresExpandedTable.csv')\n",
    "\n",
    "print('done')"
   ]
  },
  {
   "cell_type": "markdown",
   "id": "8d7f2c44",
   "metadata": {},
   "source": [
    "### Etapa 5: Carregando dados no Tableau <br>\n",
    "### Conecte-se ao seu arquivo Excel (MySpotifyDataTable.csv) como uma fonte de dados. Isso deve abrir seu arquivo GenresExpandedTable.csv no lado esquerdo também. Arraste o último arquivo para o lado direito e adicione um relacionamento entre as duas tabelas. Certifique-se de criar o relacionamento com base em track_uri (observação: talvez seja necessário clicar na seta para baixo ao lado de GenresExpandedTable.csv e clicar em \"Field names are in first row\") ."
   ]
  },
  {
   "cell_type": "markdown",
   "id": "6c968ce9",
   "metadata": {},
   "source": [
    "### Etapa 6: Editar campos no Tableau <br>\n",
    "### Adicionaremos dois campos calculados à nossa tabela de dados. Poderíamos ter feito isso usando Python, mas eu queria experimentar o Tableau.\n",
    "\n",
    "    Converta Ms Tocadas em Minutos Ouvidos :\n",
    "    [Ms Tocadas]/60000\n",
    "    \n",
    "    Converta a hora final (UTC) para a hora final (Adj) (seu fuso horário, considerando o horário de verão):\n",
    "    IF [Hora final] < DATE(2020–03–08) THEN DATEADD('hour',-5,[ Hora de término])\n",
    "    ELSEIF [Hora de término] < DATE(2020–11–01) THEN DATEADD('hora',-4,[Hora de término])\n",
    "    ELSE DATEADD('hora',-5,[Hora de término])\n",
    "    END"
   ]
  },
  {
   "cell_type": "markdown",
   "id": "aac4a686",
   "metadata": {},
   "source": [
    "### Etapa 7: criar visualizações <br>\n",
    "### Baixe o painel para ver como criei as visualizações abaixo. Observe que eles estão todos vinculados no painel e, portanto, podem filtrar uns aos outros, o que é muito ruim!\n",
    "\n",
    "> https://public.tableau.com/app/profile/anne.bode/viz/SpotifyPREMIUMDashboard/PremiumDashboard\n",
    "\n",
    "1 - Principais artistas : os artistas mais populares por minutos ouvidos, com músicas individuais formando segmentos coloridos. <br>\n",
    "2 - Amplitude do artista : número de músicas de cada artista que ouvi por > 1 minuto e > 1 stream <br>\n",
    "3 - Top Songs : músicas mais populares por minutos ouvidos <br>\n",
    "4 - Gêneros : todos os gêneros que ouvi, com tamanho e cor indicando a contagem de streams <br>\n",
    "5 - Ouvidoria por mês : autoexplicativo (editar 29/09: converti o campo “Na biblioteca” em uma dimensão de uma medida, para que eu pudesse incluí-lo em um gráfico de barras empilhadas para ver quantos minutos totais eu ouvi a cada mês , e quantos estavam na minha biblioteca) <br>\n",
    "6 - Audição por hora : autoexplicativo <br>"
   ]
  },
  {
   "cell_type": "markdown",
   "id": "c0edea25",
   "metadata": {},
   "source": [
    "### Para concluir <br>\n",
    "### Há uma tonelada de informações interessantes que você pode obter ao analisar seus dados de streaming e biblioteca do Spotify - especialmente quando combinados com campos de dados adicionais obtidos por meio da API do Spotify (ou seja, gênero). Eu aprendi que realmente gostei de Julien Baker este ano e meu amor por Lorde não tem limite de tempo. Eu ouvi demais ' Gone ' de Adrianne Lenker em agosto (#sadgirlvibes), mas em dezembro minha música favorita foi, claro, ' All I Want For Christmas Is You' de Mariah Carey'. Agora que sei como me conectar à API do Spotify, em projetos futuros quero verificar as qualidades musicais das músicas/artistas que ouço (além do gênero). Um campo em que estou especialmente interessado é a “dançabilidade”, porque sempre que tenho a tarefa de discotecar uma viagem em família, o único critério de minha mãe é “algo que eu possa dançar”. O que quer que isso signifique."
   ]
  }
 ],
 "metadata": {
  "kernelspec": {
   "display_name": "Python 3 (ipykernel)",
   "language": "python",
   "name": "python3"
  },
  "language_info": {
   "codemirror_mode": {
    "name": "ipython",
    "version": 3
   },
   "file_extension": ".py",
   "mimetype": "text/x-python",
   "name": "python",
   "nbconvert_exporter": "python",
   "pygments_lexer": "ipython3",
   "version": "3.9.12"
  }
 },
 "nbformat": 4,
 "nbformat_minor": 5
}
